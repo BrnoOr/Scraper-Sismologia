{
 "cells": [
  {
   "cell_type": "code",
   "execution_count": 1,
   "metadata": {},
   "outputs": [],
   "source": [
    "from bs4 import BeautifulSoup\n",
    "import requests\n",
    "from lxml import etree\n",
    "from datetime import datetime, timedelta\n",
    "import re\n",
    "import pandas as pd\n",
    "import time"
   ]
  },
  {
   "cell_type": "code",
   "execution_count": 2,
   "metadata": {},
   "outputs": [
    {
     "name": "stdout",
     "output_type": "stream",
     "text": [
      "tiempo del proceso: 79.31 Seg\n"
     ]
    }
   ],
   "source": [
    "init_date = datetime(2000,1,1)\n",
    "finish_date = datetime(2025,1,1)\n",
    "\n",
    "date_list = [(init_date+ timedelta(days=i)).strftime('%Y-%m-%d')\n",
    "             for i in range((finish_date-init_date).days+1)]\n",
    "dic_date = {\n",
    "    f\"{fecha}\":[\n",
    "        fecha[0:4],\n",
    "        fecha[5:7],\n",
    "        fecha[8:10],\n",
    "        re.sub('-','',fecha)\n",
    "    ]\n",
    "    for fecha in date_list\n",
    "}\n",
    "url_list = [f'https://sismologia.cl/sismicidad/catalogo/{periodo[0]}/{periodo[1]}/{periodo[3]}.html' for periodo in dic_date.values()]\n",
    "del date_list,dic_date, init_date,finish_date\n",
    "\n",
    "data = pd.DataFrame(columns=['Fecha Local / Lugar', 'Fecha UTC', 'Latitud / Longitud', 'Profundidad','Magnitud (2)'])\n",
    "init_time = time.time()\n",
    "for url in url_list:\n",
    "    \n",
    "    try:\n",
    "        page = requests.get(url)\n",
    "        soup = BeautifulSoup(page.text,'html.parser')\n",
    "        dom = etree.HTML(str(soup))\n",
    "        element = dom.xpath('//*[@id=\"page\"]/article/table')\n",
    "        tabla = pd.read_html(etree.tostring(element[0], method=\"html\"))[0]\n",
    "        data = pd.concat([data,tabla])\n",
    "    except:\n",
    "        print('URL con problemas:',url)\n",
    "        continue\n",
    "end_time = time.time()\n",
    "print('tiempo del proceso:',round((end_time-init_time)/60,2),'Seg')"
   ]
  },
  {
   "cell_type": "code",
   "execution_count": 3,
   "metadata": {},
   "outputs": [],
   "source": [
    "data.to_csv('Datos_sismologia_desde_2000.csv')"
   ]
  }
 ],
 "metadata": {
  "kernelspec": {
   "display_name": "myenv",
   "language": "python",
   "name": "python3"
  },
  "language_info": {
   "codemirror_mode": {
    "name": "ipython",
    "version": 3
   },
   "file_extension": ".py",
   "mimetype": "text/x-python",
   "name": "python",
   "nbconvert_exporter": "python",
   "pygments_lexer": "ipython3",
   "version": "3.13.1"
  }
 },
 "nbformat": 4,
 "nbformat_minor": 2
}
